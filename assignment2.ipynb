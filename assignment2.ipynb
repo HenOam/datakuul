{
 "cells": [
  {
   "cell_type": "markdown",
   "metadata": {},
   "source": [
    "1. write a program which asks the user for an integer number. If the number is divisible by three, the program should print out Fizz. If the number is divisible by five, the program shpuld print out Buzz. If the number is divisible by both three and five, the program should print out FizzBuzz. Catch sny error, especially if the number is not an integer. Remind them to type in a number\n",
    "\n",
    "2. Please write a program which asks for the user's name. If the name is anything but \"Jerry, the program then asks for the number of portions and prints out the total cost. The proce of a single portion is 5.90.\n"
   ]
  },
  {
   "cell_type": "markdown",
   "metadata": {},
   "source": [
    "##1"
   ]
  },
  {
   "cell_type": "code",
   "execution_count": 1,
   "metadata": {},
   "outputs": [
    {
     "name": "stdout",
     "output_type": "stream",
     "text": [
      "please remember to type in a number\n"
     ]
    }
   ],
   "source": [
    "\n",
    "try:\n",
    "    \n",
    "    int_num = int(input(\"please enter an integer number: \" '\\n'))\n",
    "\n",
    "    if int_num % 3 == 0:\n",
    "        print('Fizz')\n",
    "    elif int_num % 5 == 0:\n",
    "        print('Buzz')\n",
    "    else:\n",
    "        print('FizzBuzz')\n",
    "\n",
    "except:\n",
    "    print(\"please remember to type in a number\")\n",
    "    "
   ]
  },
  {
   "cell_type": "markdown",
   "metadata": {},
   "source": [
    "##2"
   ]
  },
  {
   "cell_type": "code",
   "execution_count": 4,
   "metadata": {},
   "outputs": [
    {
     "name": "stdout",
     "output_type": "stream",
     "text": [
      "The Total cost of soup is 11.8\n"
     ]
    }
   ],
   "source": [
    "name = input(\"please what is your name? \" '\\n')\n",
    "\n",
    "if name != \"Jerry\":\n",
    "    portions_soup = int(input('How many portions of soup?' '\\n'))\n",
    "    Total_cost = portions_soup * 5.90\n",
    "    print(f'The Total cost of soup is {Total_cost}')\n",
    "else:\n",
    "    print(\"Next please!\")\n",
    "    \n",
    "    "
   ]
  }
 ],
 "metadata": {
  "kernelspec": {
   "display_name": "Python 3",
   "language": "python",
   "name": "python3"
  },
  "language_info": {
   "codemirror_mode": {
    "name": "ipython",
    "version": 3
   },
   "file_extension": ".py",
   "mimetype": "text/x-python",
   "name": "python",
   "nbconvert_exporter": "python",
   "pygments_lexer": "ipython3",
   "version": "3.10.2"
  }
 },
 "nbformat": 4,
 "nbformat_minor": 2
}
